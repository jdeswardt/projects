{
 "cells": [
  {
   "cell_type": "markdown",
   "metadata": {},
   "source": [
    "# GJ DE SWARDT\n",
    "# MY GENEALOGY\n",
    "---"
   ]
  },
  {
   "cell_type": "markdown",
   "metadata": {},
   "source": [
    "## 1.) SETUP"
   ]
  },
  {
   "cell_type": "code",
   "execution_count": 2,
   "metadata": {},
   "outputs": [],
   "source": [
    "##Import libraries\n",
    "import pandas\n",
    "import numpy"
   ]
  },
  {
   "cell_type": "markdown",
   "metadata": {},
   "source": [
    "## 2.) Data"
   ]
  },
  {
   "cell_type": "code",
   "execution_count": null,
   "metadata": {},
   "outputs": [],
   "source": [
    "##Create data \n",
    "data = {'LABEL':['GREAT GRANDFATHER', 'GREAT GRANDMOTHER', 'GREAT GRANDFATHER', 'GREAT GRANDMOTHER',\n",
    "                 'GREAT GRANDFATHER', 'GREAT GRANDMOTHER', 'GREAT GRANDFATHER', 'GREAT GRANDMOTHER'\n",
    "                 'GRANDFATHER', 'GRANDMOTHER', 'GRANDFATHER', 'GRANDMOTHER', 'FATHER', 'MOTHER'],\n",
    "        'new_cases':[1, 0, 1, 1, 4, 0, 6, 3, 8, 14, 13, 11, 23, 31, 34, 52, 38, 34, 128, 152, 155, 218, 243, 17, 93, \n",
    "                     46, 27, 27, 82, 43, 80, 70, 31, 63, 96, 89, 69],\n",
    "        'new_recoveries':[0, 0, 0, 0, 0, 0, 0, 0, 0, 0, 0, 0, 0, 0, 0, 0, 0, 1, 0, 1, 2, 0, 27, 0, 0, 0, 0, 0, 14, 0,\n",
    "                          0, 0, 0, 0, 0, 0, 365],\n",
    "        'new_deaths':[0, 0, 0, 0, 0, 0, 0, 0, 0, 0, 0, 0, 0, 0, 0, 0, 0, 0, 0, 0, 0, 0, 1, 0, 1, 1, 2, 0, 0, 4, 0,\n",
    "                     2, 1, 1, 6, 0, 6]} \n",
    "\n",
    "##Transform to dataframe \n",
    "df = pandas.DataFrame(data)"
   ]
  }
 ],
 "metadata": {
  "kernelspec": {
   "display_name": "Python 3",
   "language": "python",
   "name": "python3"
  },
  "language_info": {
   "codemirror_mode": {
    "name": "ipython",
    "version": 3
   },
   "file_extension": ".py",
   "mimetype": "text/x-python",
   "name": "python",
   "nbconvert_exporter": "python",
   "pygments_lexer": "ipython3",
   "version": "3.7.4"
  }
 },
 "nbformat": 4,
 "nbformat_minor": 2
}
